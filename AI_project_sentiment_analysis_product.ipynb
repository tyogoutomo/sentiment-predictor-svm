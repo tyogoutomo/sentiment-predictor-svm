{
  "cells": [
    {
      "cell_type": "markdown",
      "metadata": {
        "id": "sf96ZIDdJ40-"
      },
      "source": [
        "-Data set ambil lgsg dr twitter\n",
        "\n",
        "-Keyword nya ditag mana yg negatif, netral, positif\n",
        "\n",
        "-Kl pake linear, netralnya ada dmn krn ada 3 value"
      ]
    },
    {
      "cell_type": "code",
      "execution_count": null,
      "metadata": {
        "colab": {
          "base_uri": "https://localhost:8080/",
          "height": 315
        },
        "id": "aiXIVACfsXvl",
        "outputId": "2edaf7fe-a345-4c68-cf3e-934758267e6f"
      },
      "outputs": [],
      "source": [
        "'''from google.colab import drive\n",
        "drive.mount('/content/drive')"
      ]
    },
    {
      "cell_type": "markdown",
      "metadata": {
        "id": "6cDeJ53Y5uoO"
      },
      "source": [
        "INITIALIZATION"
      ]
    },
    {
      "cell_type": "code",
      "execution_count": 1,
      "metadata": {
        "id": "oX_UXP2hMYoF"
      },
      "outputs": [],
      "source": [
        "import numpy as np\n",
        "import matplotlib.pyplot as plt\n",
        "import pandas as pd\n",
        "import os\n",
        "import csv\n",
        "import joblib\n",
        "\n",
        "from sklearn.model_selection import train_test_split\n",
        "from sklearn.svm import SVC\n",
        "from sklearn.feature_extraction.text import CountVectorizer\n",
        "from sklearn.feature_extraction.text import TfidfVectorizer\n",
        "from sklearn.metrics import accuracy_score, confusion_matrix, classification_report"
      ]
    },
    {
      "cell_type": "code",
      "execution_count": null,
      "metadata": {
        "colab": {
          "base_uri": "https://localhost:8080/"
        },
        "id": "ZukYYTAdrEEP",
        "outputId": "64cac8fb-274c-482b-bd13-2509b677c1d0"
      },
      "outputs": [
        {
          "name": "stdout",
          "output_type": "stream",
          "text": [
            "Mounted at /content/gdrive\n"
          ]
        }
      ],
      "source": [
        "'''from google.colab import drive\n",
        "drive.mount('/content/gdrive')"
      ]
    },
    {
      "cell_type": "code",
      "execution_count": null,
      "metadata": {
        "colab": {
          "base_uri": "https://localhost:8080/"
        },
        "id": "tmgXmBIbY2lh",
        "outputId": "678b8f1f-6bb4-47c5-e9c7-884c3fe84757"
      },
      "outputs": [
        {
          "name": "stdout",
          "output_type": "stream",
          "text": [
            "/content/gdrive\n"
          ]
        }
      ],
      "source": [
        "# !pwd"
      ]
    },
    {
      "cell_type": "code",
      "execution_count": null,
      "metadata": {
        "id": "NyGHTKGUrmUO"
      },
      "outputs": [],
      "source": [
        "'''%cd gdrive\n",
        "# try:\n",
        "#     %cd /content/gdrive/aiSentimentAnalysisProduct\n",
        "#     print(\"success\")\n",
        "# except:\n",
        "!mkdir aiSentimentAnalysisProduct\n",
        "%cd /content/gdrive/aiSentimentAnalysisProduct"
      ]
    },
    {
      "cell_type": "code",
      "execution_count": 2,
      "metadata": {
        "colab": {
          "base_uri": "https://localhost:8080/",
          "height": 333
        },
        "id": "LDGZ414mtBKg",
        "outputId": "8e71cc1f-9263-4260-ba0f-9a109212a0b2"
      },
      "outputs": [],
      "source": [
        "# load dataset\n",
        "df = pd.read_csv(\"Twitter_Data.csv\")"
      ]
    },
    {
      "cell_type": "code",
      "execution_count": 5,
      "metadata": {
        "id": "kMcrA4oGwehI"
      },
      "outputs": [
        {
          "data": {
            "text/plain": [
              "\"from matplotlib import pyplot as plt\\n_df_0[' sentiment'].plot(kind='hist', bins=20, title=' sentiment')\\nplt.gca().spines[['top', 'right',]].set_visible(False)\""
            ]
          },
          "execution_count": 5,
          "metadata": {},
          "output_type": "execute_result"
        }
      ],
      "source": [
        "'''from matplotlib import pyplot as plt\n",
        "_df_0[' sentiment'].plot(kind='hist', bins=20, title=' sentiment')\n",
        "plt.gca().spines[['top', 'right',]].set_visible(False)'''"
      ]
    },
    {
      "cell_type": "code",
      "execution_count": 7,
      "metadata": {
        "colab": {
          "base_uri": "https://localhost:8080/",
          "height": 351
        },
        "id": "Xq2BW8TUtigw",
        "outputId": "c07468ea-c697-4e38-bb8a-0494edaf9eec"
      },
      "outputs": [],
      "source": [
        "# file_name = 'Twitter_Data.xlsx'\n",
        "# df = pd.read_excel(file_name)\n",
        "# df.head"
      ]
    },
    {
      "cell_type": "markdown",
      "metadata": {
        "id": "7HyJK7i650tg"
      },
      "source": [
        "EXPERIMENTING ON NORMALIZATION & REMOVING STOP WORDS"
      ]
    },
    {
      "cell_type": "code",
      "execution_count": 8,
      "metadata": {
        "colab": {
          "base_uri": "https://localhost:8080/"
        },
        "id": "luh6JJnp3DSt",
        "outputId": "3ebd00d2-bd95-41a1-e46f-8b64af0d0a46"
      },
      "outputs": [
        {
          "data": {
            "text/plain": [
              "<bound method NDFrame.head of                                               clean_text  category\n",
              "0      when modi promised “minimum government maximum...      -1.0\n",
              "1      talk all the nonsense and continue all the dra...       0.0\n",
              "2      what did just say vote for modi  welcome bjp t...       1.0\n",
              "3      asking his supporters prefix chowkidar their n...       1.0\n",
              "4      answer who among these the most powerful world...       1.0\n",
              "...                                                  ...       ...\n",
              "15178  why these 456 crores paid neerav modi not reco...      -1.0\n",
              "15179  dear rss terrorist payal gawar what about modi...      -1.0\n",
              "15180  did you cover her interaction forum where she ...       0.0\n",
              "15181  there big project came into india modi dream p...       0.0\n",
              "15182  have you ever listen about like gurukul where ...       1.0\n",
              "\n",
              "[15178 rows x 2 columns]>"
            ]
          },
          "execution_count": 8,
          "metadata": {},
          "output_type": "execute_result"
        }
      ],
      "source": [
        "import re\n",
        "stop_words = ['is', 'that', 'and', 'this', 'its', 'http', 'com', 'twitpic', 'or',\n",
        "              'https', 'hashtag', 'instagram', 'fna', 'fbcdn', 'net', 'jpg',\n",
        "              'src', 'the', 'not', 'from', 'than', 'for',\n",
        "              'ourselves', 'hers', 'between', 'yourself', 'but', 'again', 'there',\n",
        "              'about', 'once', 'during', 'out', 'very', 'having', 'with', 'they',\n",
        "              'own', 'an', 'be', 'some', 'for', 'do',\n",
        "              'its', 'yours', 'such', 'into', 'of', 'most', 'itself', 'other',\n",
        "              'off', 'is', 's', 'am', 'or', 'who', 'as', 'from', 'him', 'each', 'the',\n",
        "              'themselves', 'until', 'below', 'are',\n",
        "              'we', 'these', 'your', 'his', 'through', 'don', 'nor', 'me', 'were',\n",
        "              'her', 'more', 'himself', 'this', 'down', 'should', 'our', 'their',\n",
        "              'while', 'above', 'both', 'up', 'to',\n",
        "              'ours', 'had', 'she', 'all', 'no', 'when', 'at', 'any', 'before',\n",
        "              'them', 'same', 'and', 'been', 'have', 'in', 'will', 'on', 'does',\n",
        "              'yourselves', 'then', 'that', 'because',\n",
        "              'what', 'over', 'why', 'so', 'can', 'did', 'not', 'now', 'under',\n",
        "              'he', 'you', 'herself', 'has', 'just', 'where', 'too', 'only', 'myself',\n",
        "              'which', 'those', 'i', 'after', 'few',\n",
        "              'whom', 't', 'being', 'if', 'theirs', 'my', 'against', 'a', 'by',\n",
        "              'doing', 'it', 'how', 'further', 'was', 'here', 'than', 'level', 'mfanolyte']\n",
        "def remove_words(text, words_to_remove):\n",
        "    pattern = r'\\b(?:' + '|'.join(map(re.escape, words_to_remove)) + r')\\b'\n",
        "    return re.sub(pattern, '', text)\n",
        "\n",
        "df = df.dropna()  # Removes rows with NaN values\n",
        "df.iloc[:, 0] = df.astype(str)  # Convert all values to strings, including NaN\n",
        "# df.iloc[:, 1] = df.fillna(0)  # Replace NaN values with 0\n",
        "# df.iloc[:, 1] = df.astype(int)  # Convert all values to strings, including NaN\n",
        "df.iloc[:, 0] = df.iloc[:, 0].str.lower()\n",
        "# df.iloc[:, 0] = df.iloc[:, 0].apply(lambda x: ' '.join(re.findall(r'\\b[a-z]{3,15}\\b', x))) ##menghilangkan simbol\n",
        "# df['text'] = df['text'].apply(lambda x: remove_words(x, stop_words))\n",
        "# print(df['text'])\n",
        "df.head"
      ]
    },
    {
      "cell_type": "code",
      "execution_count": 9,
      "metadata": {
        "id": "mVE3XE-0r2qM"
      },
      "outputs": [],
      "source": [
        "x_train_raw, x_test_raw, y_train, y_test = train_test_split(\n",
        "                df.iloc[:, 0], df.iloc[:, 1],\n",
        "                test_size = 0.2, random_state=42)"
      ]
    },
    {
      "cell_type": "code",
      "execution_count": 10,
      "metadata": {
        "colab": {
          "base_uri": "https://localhost:8080/"
        },
        "id": "rTduSpO6m2gs",
        "outputId": "3c4167b9-f8ef-42f1-b1e9-ea9b7c7cde08"
      },
      "outputs": [
        {
          "name": "stdout",
          "output_type": "stream",
          "text": [
            "11527    this must the biggest joke this which not capa...\n",
            "10872    but you guys told that afyer modi they have be...\n",
            "2056     modis challengers tell how bad not how good th...\n",
            "11588    land air space had courage surgical strikes mo...\n",
            "2059                           modi will back double power\n",
            "                               ...                        \n",
            "5192     the three lakh crore will come back into the s...\n",
            "13423    salve british gandhi gave freedom and was shot...\n",
            "5391               literally anyone but not the clown modi\n",
            "861      modi has finished all corruption the cabinet l...\n",
            "7271     \\nthen job seekers now job creators due modi g...\n",
            "Name: clean_text, Length: 12142, dtype: object\n"
          ]
        }
      ],
      "source": [
        "print(x_train_raw)"
      ]
    },
    {
      "cell_type": "markdown",
      "metadata": {
        "id": "WKdcWcCehHe-"
      },
      "source": [
        "NLP PROCESS"
      ]
    },
    {
      "cell_type": "code",
      "execution_count": 11,
      "metadata": {
        "colab": {
          "base_uri": "https://localhost:8080/"
        },
        "id": "EAr0dggJwGGC",
        "outputId": "617b531a-9013-41f4-a01e-99b2c5465aae"
      },
      "outputs": [
        {
          "data": {
            "text/plain": [
              "<12142x22254 sparse matrix of type '<class 'numpy.float64'>'\n",
              "\twith 226177 stored elements in Compressed Sparse Row format>"
            ]
          },
          "execution_count": 11,
          "metadata": {},
          "output_type": "execute_result"
        }
      ],
      "source": [
        "# vect = CountVectorizer()\n",
        "# vect.fit(x_train)\n",
        "\n",
        "vect = TfidfVectorizer()\n",
        "vect.fit_transform(x_train_raw)"
      ]
    },
    {
      "cell_type": "code",
      "execution_count": 12,
      "metadata": {
        "colab": {
          "base_uri": "https://localhost:8080/"
        },
        "id": "93fVf9TB5M5M",
        "outputId": "9c6c8cf1-4a38-4658-8105-8dd408426b9f"
      },
      "outputs": [
        {
          "ename": "FileNotFoundError",
          "evalue": "[Errno 2] No such file or directory: '/content/vectorizer_1.pkl'",
          "output_type": "error",
          "traceback": [
            "\u001b[1;31m---------------------------------------------------------------------------\u001b[0m",
            "\u001b[1;31mFileNotFoundError\u001b[0m                         Traceback (most recent call last)",
            "Cell \u001b[1;32mIn[12], line 2\u001b[0m\n\u001b[0;32m      1\u001b[0m vect_path \u001b[38;5;241m=\u001b[39m \u001b[38;5;124m'\u001b[39m\u001b[38;5;124m/content/vectorizer_1.pkl\u001b[39m\u001b[38;5;124m'\u001b[39m\n\u001b[1;32m----> 2\u001b[0m \u001b[43mjoblib\u001b[49m\u001b[38;5;241;43m.\u001b[39;49m\u001b[43mdump\u001b[49m\u001b[43m(\u001b[49m\u001b[43mvect\u001b[49m\u001b[43m,\u001b[49m\u001b[43m \u001b[49m\u001b[43mvect_path\u001b[49m\u001b[43m)\u001b[49m\n",
            "File \u001b[1;32mc:\\Users\\tyogo\\AppData\\Local\\Programs\\Python\\Python311\\Lib\\site-packages\\joblib\\numpy_pickle.py:552\u001b[0m, in \u001b[0;36mdump\u001b[1;34m(value, filename, compress, protocol, cache_size)\u001b[0m\n\u001b[0;32m    550\u001b[0m         NumpyPickler(f, protocol\u001b[38;5;241m=\u001b[39mprotocol)\u001b[38;5;241m.\u001b[39mdump(value)\n\u001b[0;32m    551\u001b[0m \u001b[38;5;28;01melif\u001b[39;00m is_filename:\n\u001b[1;32m--> 552\u001b[0m     \u001b[38;5;28;01mwith\u001b[39;00m \u001b[38;5;28;43mopen\u001b[39;49m\u001b[43m(\u001b[49m\u001b[43mfilename\u001b[49m\u001b[43m,\u001b[49m\u001b[43m \u001b[49m\u001b[38;5;124;43m'\u001b[39;49m\u001b[38;5;124;43mwb\u001b[39;49m\u001b[38;5;124;43m'\u001b[39;49m\u001b[43m)\u001b[49m \u001b[38;5;28;01mas\u001b[39;00m f:\n\u001b[0;32m    553\u001b[0m         NumpyPickler(f, protocol\u001b[38;5;241m=\u001b[39mprotocol)\u001b[38;5;241m.\u001b[39mdump(value)\n\u001b[0;32m    554\u001b[0m \u001b[38;5;28;01melse\u001b[39;00m:\n",
            "\u001b[1;31mFileNotFoundError\u001b[0m: [Errno 2] No such file or directory: '/content/vectorizer_1.pkl'"
          ]
        }
      ],
      "source": [
        "vect_path = '/content/vectorizer_1.pkl'\n",
        "joblib.dump(vect, vect_path)"
      ]
    },
    {
      "cell_type": "code",
      "execution_count": 13,
      "metadata": {
        "id": "yPMlr63z8TJ3"
      },
      "outputs": [],
      "source": [
        "x_train = vect.transform(x_train_raw)\n",
        "x_test = vect.transform(x_test_raw)"
      ]
    },
    {
      "cell_type": "code",
      "execution_count": 14,
      "metadata": {
        "id": "tv-ZmIz3r7O5"
      },
      "outputs": [
        {
          "name": "stdout",
          "output_type": "stream",
          "text": [
            "  (0, 261)\t0.2052112186661987\n",
            "  (0, 2956)\t0.262907230225526\n",
            "  (0, 3712)\t0.3112341012194838\n",
            "  (0, 5728)\t0.37590851433223\n",
            "  (0, 10957)\t0.30438349157667105\n",
            "  (0, 11053)\t0.1782491613265132\n",
            "  (0, 13651)\t0.22759586593203407\n",
            "  (0, 14168)\t0.12475084377417632\n",
            "  (0, 14668)\t0.23684092234723847\n",
            "  (0, 15970)\t0.22582683654375682\n",
            "  (0, 15975)\t0.2278220292462659\n",
            "  (0, 16853)\t0.2619196119073876\n",
            "  (0, 19976)\t0.08659560229795905\n",
            "  (0, 19991)\t0.18188692098726322\n",
            "  (0, 20069)\t0.2527721143888801\n",
            "  (0, 21541)\t0.16092897460160538\n",
            "  (0, 21676)\t0.15862429189069113\n",
            "  (0, 21696)\t0.20055616526259998\n",
            "  (0, 21707)\t0.18829612659622108\n",
            "  (1, 968)\t0.27052067385066414\n",
            "  (1, 1201)\t0.4457550953907332\n",
            "  (1, 1591)\t0.09908049503951419\n",
            "  (1, 2470)\t0.24237894957264383\n",
            "  (1, 2641)\t0.2034876613455052\n",
            "  (1, 3589)\t0.14782846110459116\n",
            "  :\t:\n",
            "  (12140, 3621)\t0.3550592868546742\n",
            "  (12140, 5029)\t0.2803132928558551\n",
            "  (12140, 7801)\t0.42000230473939687\n",
            "  (12140, 8029)\t0.3725019500161251\n",
            "  (12140, 9141)\t0.16371744078338132\n",
            "  (12140, 11890)\t0.3221769370930189\n",
            "  (12140, 13206)\t0.0606911822875894\n",
            "  (12140, 19976)\t0.10101261614879525\n",
            "  (12140, 21232)\t0.22903127447566374\n",
            "  (12141, 1591)\t0.08512226017560683\n",
            "  (12141, 1787)\t0.2116643637789611\n",
            "  (12141, 5190)\t0.35562454211630856\n",
            "  (12141, 6594)\t0.2189565974170031\n",
            "  (12141, 8702)\t0.2522664100730746\n",
            "  (12141, 10082)\t0.11752693972287312\n",
            "  (12141, 10933)\t0.4319804690510138\n",
            "  (12141, 13206)\t0.04616716819606644\n",
            "  (12141, 13552)\t0.30095736423658637\n",
            "  (12141, 13748)\t0.19619072413770894\n",
            "  (12141, 14204)\t0.14571678980458314\n",
            "  (12141, 17837)\t0.23113128265447805\n",
            "  (12141, 17969)\t0.3669690065162243\n",
            "  (12141, 19046)\t0.33355663454821244\n",
            "  (12141, 20002)\t0.1653827102845206\n",
            "  (12141, 21232)\t0.17422177279020687\n"
          ]
        }
      ],
      "source": [
        "print(x_train)"
      ]
    },
    {
      "cell_type": "code",
      "execution_count": 15,
      "metadata": {
        "colab": {
          "base_uri": "https://localhost:8080/",
          "height": 607
        },
        "id": "BHRYhyjwkzRl",
        "outputId": "92d99d54-6c2d-4070-d77a-7f1f42566118"
      },
      "outputs": [
        {
          "data": {
            "image/png": "[encoded data removed]",
            "text/plain": [
              "<Figure size 1000x600 with 1 Axes>"
            ]
          },
          "metadata": {},
          "output_type": "display_data"
        }
      ],
      "source": [
        "feature_importance = x_train.sum(axis=0).A1\n",
        "feature_names = vect.get_feature_names_out()\n",
        "\n",
        "# Create a DataFrame to organize the feature names and their respective importance values\n",
        "data = {'Feature': feature_names, 'Importance': feature_importance}\n",
        "df = pd.DataFrame(data)\n",
        "\n",
        "# Sort DataFrame by importance values\n",
        "df_sorted = df.sort_values(by='Importance', ascending=False).head(20) # Top 20 features\n",
        "\n",
        "# Create a bar plot\n",
        "plt.figure(figsize=(10, 6))\n",
        "plt.bar(df_sorted['Feature'], df_sorted['Importance'])\n",
        "plt.xlabel('Feature')\n",
        "plt.ylabel('Importance')\n",
        "plt.title('Top 20 Important Features')\n",
        "plt.xticks(rotation=90)  # Rotate x-labels for better visibility\n",
        "plt.tight_layout()\n",
        "plt.show()"
      ]
    },
    {
      "cell_type": "code",
      "execution_count": 16,
      "metadata": {
        "id": "yBGZgaL0zdup"
      },
      "outputs": [],
      "source": [
        "# from sklearn.preprocessing import MaxAbsScaler\n",
        "\n",
        "# # Min-Max scaling\n",
        "# scaler = MaxAbsScaler()\n",
        "# X_scaled = scaler.fit_transform(x_train)\n",
        "# print(X_scaled.toarray())"
      ]
    },
    {
      "cell_type": "code",
      "execution_count": 17,
      "metadata": {
        "id": "IAuMHx5VmxGv"
      },
      "outputs": [],
      "source": [
        "from sklearn.model_selection import GridSearchCV\n",
        "\n",
        "# Create a dictionary of possible parameters\n",
        "param_grid = {'C': [0.001, 0.01, 0.1, 1, 10, 100],\n",
        "              'gamma': [0.0001, 0.001, 0.01, 0.1],\n",
        "              'kernel': ['linear']}\n",
        "\n",
        "# Create the GridSearchCV object\n",
        "grid_clf = GridSearchCV(SVC(class_weight='balanced'), param_grid)\n",
        "\n",
        "# Fit the data with the best possible parameters\n",
        "grid_clf.fit(x_train, y_train)\n",
        "\n",
        "# Print the best estimator with its parameters\n",
        "print(grid_clf.best_estimator_)\n"
      ]
    },
    {
      "cell_type": "code",
      "execution_count": null,
      "metadata": {
        "id": "VRhuA_Utxd4U"
      },
      "outputs": [],
      "source": [
        "classifier = SVC(kernel = 'linear')\n",
        "# classifier = SVC(C=10, class_weight='balanced', gamma=0.0001, kernel='linear')"
      ]
    },
    {
      "cell_type": "code",
      "execution_count": null,
      "metadata": {
        "colab": {
          "base_uri": "https://localhost:8080/",
          "height": 75
        },
        "id": "Df2XDVrphrNP",
        "outputId": "fbd8c739-695b-4ed3-f508-6738edba4e41"
      },
      "outputs": [
        {
          "data": {
            "text/html": [
              "<style>#sk-container-id-3 {color: black;background-color: white;}#sk-container-id-3 pre{padding: 0;}#sk-container-id-3 div.sk-toggleable {background-color: white;}#sk-container-id-3 label.sk-toggleable__label {cursor: pointer;display: block;width: 100%;margin-bottom: 0;padding: 0.3em;box-sizing: border-box;text-align: center;}#sk-container-id-3 label.sk-toggleable__label-arrow:before {content: \"▸\";float: left;margin-right: 0.25em;color: #696969;}#sk-container-id-3 label.sk-toggleable__label-arrow:hover:before {color: black;}#sk-container-id-3 div.sk-estimator:hover label.sk-toggleable__label-arrow:before {color: black;}#sk-container-id-3 div.sk-toggleable__content {max-height: 0;max-width: 0;overflow: hidden;text-align: left;background-color: #f0f8ff;}#sk-container-id-3 div.sk-toggleable__content pre {margin: 0.2em;color: black;border-radius: 0.25em;background-color: #f0f8ff;}#sk-container-id-3 input.sk-toggleable__control:checked~div.sk-toggleable__content {max-height: 200px;max-width: 100%;overflow: auto;}#sk-container-id-3 input.sk-toggleable__control:checked~label.sk-toggleable__label-arrow:before {content: \"▾\";}#sk-container-id-3 div.sk-estimator input.sk-toggleable__control:checked~label.sk-toggleable__label {background-color: #d4ebff;}#sk-container-id-3 div.sk-label input.sk-toggleable__control:checked~label.sk-toggleable__label {background-color: #d4ebff;}#sk-container-id-3 input.sk-hidden--visually {border: 0;clip: rect(1px 1px 1px 1px);clip: rect(1px, 1px, 1px, 1px);height: 1px;margin: -1px;overflow: hidden;padding: 0;position: absolute;width: 1px;}#sk-container-id-3 div.sk-estimator {font-family: monospace;background-color: #f0f8ff;border: 1px dotted black;border-radius: 0.25em;box-sizing: border-box;margin-bottom: 0.5em;}#sk-container-id-3 div.sk-estimator:hover {background-color: #d4ebff;}#sk-container-id-3 div.sk-parallel-item::after {content: \"\";width: 100%;border-bottom: 1px solid gray;flex-grow: 1;}#sk-container-id-3 div.sk-label:hover label.sk-toggleable__label {background-color: #d4ebff;}#sk-container-id-3 div.sk-serial::before {content: \"\";position: absolute;border-left: 1px solid gray;box-sizing: border-box;top: 0;bottom: 0;left: 50%;z-index: 0;}#sk-container-id-3 div.sk-serial {display: flex;flex-direction: column;align-items: center;background-color: white;padding-right: 0.2em;padding-left: 0.2em;position: relative;}#sk-container-id-3 div.sk-item {position: relative;z-index: 1;}#sk-container-id-3 div.sk-parallel {display: flex;align-items: stretch;justify-content: center;background-color: white;position: relative;}#sk-container-id-3 div.sk-item::before, #sk-container-id-3 div.sk-parallel-item::before {content: \"\";position: absolute;border-left: 1px solid gray;box-sizing: border-box;top: 0;bottom: 0;left: 50%;z-index: -1;}#sk-container-id-3 div.sk-parallel-item {display: flex;flex-direction: column;z-index: 1;position: relative;background-color: white;}#sk-container-id-3 div.sk-parallel-item:first-child::after {align-self: flex-end;width: 50%;}#sk-container-id-3 div.sk-parallel-item:last-child::after {align-self: flex-start;width: 50%;}#sk-container-id-3 div.sk-parallel-item:only-child::after {width: 0;}#sk-container-id-3 div.sk-dashed-wrapped {border: 1px dashed gray;margin: 0 0.4em 0.5em 0.4em;box-sizing: border-box;padding-bottom: 0.4em;background-color: white;}#sk-container-id-3 div.sk-label label {font-family: monospace;font-weight: bold;display: inline-block;line-height: 1.2em;}#sk-container-id-3 div.sk-label-container {text-align: center;}#sk-container-id-3 div.sk-container {/* jupyter's `normalize.less` sets `[hidden] { display: none; }` but bootstrap.min.css set `[hidden] { display: none !important; }` so we also need the `!important` here to be able to override the default hidden behavior on the sphinx rendered scikit-learn.org. See: https://github.com/scikit-learn/scikit-learn/issues/21755 */display: inline-block !important;position: relative;}#sk-container-id-3 div.sk-text-repr-fallback {display: none;}</style><div id=\"sk-container-id-3\" class=\"sk-top-container\"><div class=\"sk-text-repr-fallback\"><pre>SVC(kernel=&#x27;linear&#x27;)</pre><b>In a Jupyter environment, please rerun this cell to show the HTML representation or trust the notebook. <br />On GitHub, the HTML representation is unable to render, please try loading this page with nbviewer.org.</b></div><div class=\"sk-container\" hidden><div class=\"sk-item\"><div class=\"sk-estimator sk-toggleable\"><input class=\"sk-toggleable__control sk-hidden--visually\" id=\"sk-estimator-id-3\" type=\"checkbox\" checked><label for=\"sk-estimator-id-3\" class=\"sk-toggleable__label sk-toggleable__label-arrow\">SVC</label><div class=\"sk-toggleable__content\"><pre>SVC(kernel=&#x27;linear&#x27;)</pre></div></div></div></div></div>"
            ],
            "text/plain": [
              "SVC(kernel='linear')"
            ]
          },
          "execution_count": 40,
          "metadata": {},
          "output_type": "execute_result"
        }
      ],
      "source": [
        "classifier.fit(x_train, y_train)"
      ]
    },
    {
      "cell_type": "code",
      "execution_count": null,
      "metadata": {
        "id": "HqWwolV4unIw"
      },
      "outputs": [],
      "source": [
        "y_pred = classifier.predict(x_test)\n"
      ]
    },
    {
      "cell_type": "code",
      "execution_count": null,
      "metadata": {
        "colab": {
          "base_uri": "https://localhost:8080/",
          "height": 564
        },
        "id": "Tvnfdg43xx1X",
        "outputId": "23edff8e-37d0-4b74-d8fb-a8c97825ae15"
      },
      "outputs": [
        {
          "data": {
            "image/png": "[encoded data removed]",
            "text/plain": [
              "<Figure size 800x600 with 1 Axes>"
            ]
          },
          "metadata": {},
          "output_type": "display_data"
        }
      ],
      "source": [
        "plt.figure(figsize=(8, 6))\n",
        "plt.hist(y_pred, bins=len(set(y_test)))\n",
        "plt.xlabel('Predicted Labels')\n",
        "plt.ylabel('Frequency')\n",
        "plt.title('Distribution of Predicted Labels')\n",
        "plt.grid(True)\n",
        "plt.show()"
      ]
    },
    {
      "cell_type": "code",
      "execution_count": null,
      "metadata": {
        "colab": {
          "base_uri": "https://localhost:8080/"
        },
        "id": "hgkpyfLtx0qN",
        "outputId": "feb55673-c854-40ef-d3c8-8afd6ba66df1"
      },
      "outputs": [
        {
          "name": "stdout",
          "output_type": "stream",
          "text": [
            "[[ 494  101  119]\n",
            " [  28  937   69]\n",
            " [  67  111 1110]]\n",
            "0.8369565217391305\n",
            "              precision    recall  f1-score   support\n",
            "\n",
            "        -1.0       0.84      0.69      0.76       714\n",
            "         0.0       0.82      0.91      0.86      1034\n",
            "         1.0       0.86      0.86      0.86      1288\n",
            "\n",
            "    accuracy                           0.84      3036\n",
            "   macro avg       0.84      0.82      0.83      3036\n",
            "weighted avg       0.84      0.84      0.83      3036\n",
            "\n"
          ]
        }
      ],
      "source": [
        "cm = confusion_matrix(y_test, y_pred)\n",
        "print(cm)\n",
        "print(accuracy_score(y_test,y_pred))\n",
        "print(classification_report(y_test, y_pred))"
      ]
    },
    {
      "cell_type": "code",
      "execution_count": null,
      "metadata": {
        "id": "EWoBAl6jDAYd"
      },
      "outputs": [],
      "source": [
        "def filter_string(input_string):\n",
        "    # Apply the regex pattern and filter logic\n",
        "    filtered_words = re.findall(r'\\b[a-z]{3,15}\\b', input_string.lower())\n",
        "    # Join the filtered words into a single string\n",
        "    filtered_string = ' '.join(filtered_words)\n",
        "    return filtered_string"
      ]
    },
    {
      "cell_type": "code",
      "execution_count": null,
      "metadata": {
        "colab": {
          "base_uri": "https://localhost:8080/"
        },
        "id": "17SidenZx5_K",
        "outputId": "a866fdf4-2d56-4052-bf4e-678b87bf51eb"
      },
      "outputs": [
        {
          "name": "stdout",
          "output_type": "stream",
          "text": [
            "shell oil is all over the world \n",
            "Sentiment:  0.0\n",
            "i swear i will never buy mcd again #freepalestine tastes like shit \n",
            "Sentiment:  -1.0\n",
            "loving the behind the scenes. keep them coming! i watched an episode of slow horses last night and could swear a bit of it was filmed where fix you was filmed. would love to know more background \n",
            "Sentiment:  1.0\n"
          ]
        }
      ],
      "source": [
        "# text_test = \"Loving the behind the scenes. Keep them coming! I watched an episode of Slow Horses last night and could swear a bit of it was filmed where Fix You was filmed. Would love to know more background\"\n",
        "# text_test = \"modi government changed the lifestyle common man sat sharma via speaks\"\n",
        "# text_test = \"Unpopular opinion: commenting free Palestine and to boycott Mc Donald’s doesn’t and WILL NOT stop people dying in Palestine\"\n",
        "# text_test = \"I swear I will never buy McD again #freepalestine tastes like shit\"\n",
        "\n",
        "text_test = \"Shell oil is all over the world\"\n",
        "text_test = text_test.lower()\n",
        "# text_test = filter_string(text_test)\n",
        "text=np.array([text_test], dtype=object)\n",
        "sample = vect.transform(text)\n",
        "pred = classifier.predict(sample)\n",
        "print(text_test, \"\\nSentiment: \", pred[0])\n",
        "\n",
        "text_test = \"I swear I will never buy McD again #freepalestine tastes like shit\"\n",
        "text_test = text_test.lower()\n",
        "text=np.array([text_test], dtype=object)\n",
        "sample = vect.transform(text)\n",
        "pred = classifier.predict(sample)\n",
        "print(text_test, \"\\nSentiment: \", pred[0])\n",
        "\n",
        "text_test = \"Loving the behind the scenes. Keep them coming! I watched an episode of Slow Horses last night and could swear a bit of it was filmed where Fix You was filmed. Would love to know more background\"\n",
        "text_test = text_test.lower()\n",
        "text=np.array([text_test], dtype=object)\n",
        "sample = vect.transform(text)\n",
        "pred = classifier.predict(sample)\n",
        "print(text_test, \"\\nSentiment: \", pred[0])"
      ]
    },
    {
      "cell_type": "code",
      "execution_count": null,
      "metadata": {
        "colab": {
          "base_uri": "https://localhost:8080/",
          "height": 860
        },
        "id": "BTbl0fzLrt6n",
        "outputId": "f9b4a9dd-c0c7-44c9-f835-9a8adbeb4c3a"
      },
      "outputs": [
        {
          "ename": "ValueError",
          "evalue": "ignored",
          "output_type": "error",
          "traceback": [
            "\u001b[0;31m---------------------------------------------------------------------------\u001b[0m",
            "\u001b[0;31mValueError\u001b[0m                                Traceback (most recent call last)",
            "\u001b[0;32m/usr/local/lib/python3.10/dist-packages/matplotlib/axes/_axes.py\u001b[0m in \u001b[0;36m_parse_scatter_color_args\u001b[0;34m(c, edgecolors, kwargs, xsize, get_next_color_func)\u001b[0m\n\u001b[1;32m   4438\u001b[0m             \u001b[0;32mtry\u001b[0m\u001b[0;34m:\u001b[0m  \u001b[0;31m# Is 'c' acceptable as PathCollection facecolors?\u001b[0m\u001b[0;34m\u001b[0m\u001b[0;34m\u001b[0m\u001b[0m\n\u001b[0;32m-> 4439\u001b[0;31m                 \u001b[0mcolors\u001b[0m \u001b[0;34m=\u001b[0m \u001b[0mmcolors\u001b[0m\u001b[0;34m.\u001b[0m\u001b[0mto_rgba_array\u001b[0m\u001b[0;34m(\u001b[0m\u001b[0mc\u001b[0m\u001b[0;34m)\u001b[0m\u001b[0;34m\u001b[0m\u001b[0;34m\u001b[0m\u001b[0m\n\u001b[0m\u001b[1;32m   4440\u001b[0m             \u001b[0;32mexcept\u001b[0m \u001b[0;34m(\u001b[0m\u001b[0mTypeError\u001b[0m\u001b[0;34m,\u001b[0m \u001b[0mValueError\u001b[0m\u001b[0;34m)\u001b[0m \u001b[0;32mas\u001b[0m \u001b[0merr\u001b[0m\u001b[0;34m:\u001b[0m\u001b[0;34m\u001b[0m\u001b[0;34m\u001b[0m\u001b[0m\n",
            "\u001b[0;32m/usr/local/lib/python3.10/dist-packages/matplotlib/colors.py\u001b[0m in \u001b[0;36mto_rgba_array\u001b[0;34m(c, alpha)\u001b[0m\n\u001b[1;32m    486\u001b[0m     \u001b[0;32melse\u001b[0m\u001b[0;34m:\u001b[0m\u001b[0;34m\u001b[0m\u001b[0;34m\u001b[0m\u001b[0m\n\u001b[0;32m--> 487\u001b[0;31m         \u001b[0mrgba\u001b[0m \u001b[0;34m=\u001b[0m \u001b[0mnp\u001b[0m\u001b[0;34m.\u001b[0m\u001b[0marray\u001b[0m\u001b[0;34m(\u001b[0m\u001b[0;34m[\u001b[0m\u001b[0mto_rgba\u001b[0m\u001b[0;34m(\u001b[0m\u001b[0mcc\u001b[0m\u001b[0;34m)\u001b[0m \u001b[0;32mfor\u001b[0m \u001b[0mcc\u001b[0m \u001b[0;32min\u001b[0m \u001b[0mc\u001b[0m\u001b[0;34m]\u001b[0m\u001b[0;34m)\u001b[0m\u001b[0;34m\u001b[0m\u001b[0;34m\u001b[0m\u001b[0m\n\u001b[0m\u001b[1;32m    488\u001b[0m \u001b[0;34m\u001b[0m\u001b[0m\n",
            "\u001b[0;32m/usr/local/lib/python3.10/dist-packages/matplotlib/colors.py\u001b[0m in \u001b[0;36m<listcomp>\u001b[0;34m(.0)\u001b[0m\n\u001b[1;32m    486\u001b[0m     \u001b[0;32melse\u001b[0m\u001b[0;34m:\u001b[0m\u001b[0;34m\u001b[0m\u001b[0;34m\u001b[0m\u001b[0m\n\u001b[0;32m--> 487\u001b[0;31m         \u001b[0mrgba\u001b[0m \u001b[0;34m=\u001b[0m \u001b[0mnp\u001b[0m\u001b[0;34m.\u001b[0m\u001b[0marray\u001b[0m\u001b[0;34m(\u001b[0m\u001b[0;34m[\u001b[0m\u001b[0mto_rgba\u001b[0m\u001b[0;34m(\u001b[0m\u001b[0mcc\u001b[0m\u001b[0;34m)\u001b[0m \u001b[0;32mfor\u001b[0m \u001b[0mcc\u001b[0m \u001b[0;32min\u001b[0m \u001b[0mc\u001b[0m\u001b[0;34m]\u001b[0m\u001b[0;34m)\u001b[0m\u001b[0;34m\u001b[0m\u001b[0;34m\u001b[0m\u001b[0m\n\u001b[0m\u001b[1;32m    488\u001b[0m \u001b[0;34m\u001b[0m\u001b[0m\n",
            "\u001b[0;32m/usr/local/lib/python3.10/dist-packages/matplotlib/colors.py\u001b[0m in \u001b[0;36mto_rgba\u001b[0;34m(c, alpha)\u001b[0m\n\u001b[1;32m    298\u001b[0m     \u001b[0;32mif\u001b[0m \u001b[0mrgba\u001b[0m \u001b[0;32mis\u001b[0m \u001b[0;32mNone\u001b[0m\u001b[0;34m:\u001b[0m  \u001b[0;31m# Suppress exception chaining of cache lookup failure.\u001b[0m\u001b[0;34m\u001b[0m\u001b[0;34m\u001b[0m\u001b[0m\n\u001b[0;32m--> 299\u001b[0;31m         \u001b[0mrgba\u001b[0m \u001b[0;34m=\u001b[0m \u001b[0m_to_rgba_no_colorcycle\u001b[0m\u001b[0;34m(\u001b[0m\u001b[0mc\u001b[0m\u001b[0;34m,\u001b[0m \u001b[0malpha\u001b[0m\u001b[0;34m)\u001b[0m\u001b[0;34m\u001b[0m\u001b[0;34m\u001b[0m\u001b[0m\n\u001b[0m\u001b[1;32m    300\u001b[0m         \u001b[0;32mtry\u001b[0m\u001b[0;34m:\u001b[0m\u001b[0;34m\u001b[0m\u001b[0;34m\u001b[0m\u001b[0m\n",
            "\u001b[0;32m/usr/local/lib/python3.10/dist-packages/matplotlib/colors.py\u001b[0m in \u001b[0;36m_to_rgba_no_colorcycle\u001b[0;34m(c, alpha)\u001b[0m\n\u001b[1;32m    380\u001b[0m     \u001b[0;32mif\u001b[0m \u001b[0;32mnot\u001b[0m \u001b[0mnp\u001b[0m\u001b[0;34m.\u001b[0m\u001b[0miterable\u001b[0m\u001b[0;34m(\u001b[0m\u001b[0mc\u001b[0m\u001b[0;34m)\u001b[0m\u001b[0;34m:\u001b[0m\u001b[0;34m\u001b[0m\u001b[0;34m\u001b[0m\u001b[0m\n\u001b[0;32m--> 381\u001b[0;31m         \u001b[0;32mraise\u001b[0m \u001b[0mValueError\u001b[0m\u001b[0;34m(\u001b[0m\u001b[0;34mf\"Invalid RGBA argument: {orig_c!r}\"\u001b[0m\u001b[0;34m)\u001b[0m\u001b[0;34m\u001b[0m\u001b[0;34m\u001b[0m\u001b[0m\n\u001b[0m\u001b[1;32m    382\u001b[0m     \u001b[0;32mif\u001b[0m \u001b[0mlen\u001b[0m\u001b[0;34m(\u001b[0m\u001b[0mc\u001b[0m\u001b[0;34m)\u001b[0m \u001b[0;32mnot\u001b[0m \u001b[0;32min\u001b[0m \u001b[0;34m[\u001b[0m\u001b[0;36m3\u001b[0m\u001b[0;34m,\u001b[0m \u001b[0;36m4\u001b[0m\u001b[0;34m]\u001b[0m\u001b[0;34m:\u001b[0m\u001b[0;34m\u001b[0m\u001b[0;34m\u001b[0m\u001b[0m\n",
            "\u001b[0;31mValueError\u001b[0m: Invalid RGBA argument: 1.0",
            "\nThe above exception was the direct cause of the following exception:\n",
            "\u001b[0;31mValueError\u001b[0m                                Traceback (most recent call last)",
            "\u001b[0;32m<ipython-input-47-3741a220ebac>\u001b[0m in \u001b[0;36m<cell line: 3>\u001b[0;34m()\u001b[0m\n\u001b[1;32m      1\u001b[0m \u001b[0;31m# Plot the SVM decision boundary\u001b[0m\u001b[0;34m\u001b[0m\u001b[0;34m\u001b[0m\u001b[0m\n\u001b[1;32m      2\u001b[0m \u001b[0;31m# Note: This is a simple 2D representation, and actual feature space may have more dimensions\u001b[0m\u001b[0;34m\u001b[0m\u001b[0;34m\u001b[0m\u001b[0m\n\u001b[0;32m----> 3\u001b[0;31m \u001b[0mplt\u001b[0m\u001b[0;34m.\u001b[0m\u001b[0mscatter\u001b[0m\u001b[0;34m(\u001b[0m\u001b[0mx_train\u001b[0m\u001b[0;34m[\u001b[0m\u001b[0;34m:\u001b[0m\u001b[0;34m,\u001b[0m \u001b[0;36m0\u001b[0m\u001b[0;34m]\u001b[0m\u001b[0;34m,\u001b[0m \u001b[0mx_train\u001b[0m\u001b[0;34m[\u001b[0m\u001b[0;34m:\u001b[0m\u001b[0;34m,\u001b[0m \u001b[0;36m1\u001b[0m\u001b[0;34m]\u001b[0m\u001b[0;34m,\u001b[0m \u001b[0mc\u001b[0m\u001b[0;34m=\u001b[0m\u001b[0my_train\u001b[0m\u001b[0;34m,\u001b[0m \u001b[0mcmap\u001b[0m\u001b[0;34m=\u001b[0m\u001b[0mplt\u001b[0m\u001b[0;34m.\u001b[0m\u001b[0mcm\u001b[0m\u001b[0;34m.\u001b[0m\u001b[0mPaired\u001b[0m\u001b[0;34m,\u001b[0m \u001b[0medgecolors\u001b[0m\u001b[0;34m=\u001b[0m\u001b[0;34m'k'\u001b[0m\u001b[0;34m)\u001b[0m\u001b[0;34m\u001b[0m\u001b[0;34m\u001b[0m\u001b[0m\n\u001b[0m\u001b[1;32m      4\u001b[0m \u001b[0max\u001b[0m \u001b[0;34m=\u001b[0m \u001b[0mplt\u001b[0m\u001b[0;34m.\u001b[0m\u001b[0mgca\u001b[0m\u001b[0;34m(\u001b[0m\u001b[0;34m)\u001b[0m\u001b[0;34m\u001b[0m\u001b[0;34m\u001b[0m\u001b[0m\n\u001b[1;32m      5\u001b[0m \u001b[0mxlim\u001b[0m \u001b[0;34m=\u001b[0m \u001b[0max\u001b[0m\u001b[0;34m.\u001b[0m\u001b[0mget_xlim\u001b[0m\u001b[0;34m(\u001b[0m\u001b[0;34m)\u001b[0m\u001b[0;34m\u001b[0m\u001b[0;34m\u001b[0m\u001b[0m\n",
            "\u001b[0;32m/usr/local/lib/python3.10/dist-packages/matplotlib/pyplot.py\u001b[0m in \u001b[0;36mscatter\u001b[0;34m(x, y, s, c, marker, cmap, norm, vmin, vmax, alpha, linewidths, edgecolors, plotnonfinite, data, **kwargs)\u001b[0m\n\u001b[1;32m   2860\u001b[0m         \u001b[0mvmin\u001b[0m\u001b[0;34m=\u001b[0m\u001b[0;32mNone\u001b[0m\u001b[0;34m,\u001b[0m \u001b[0mvmax\u001b[0m\u001b[0;34m=\u001b[0m\u001b[0;32mNone\u001b[0m\u001b[0;34m,\u001b[0m \u001b[0malpha\u001b[0m\u001b[0;34m=\u001b[0m\u001b[0;32mNone\u001b[0m\u001b[0;34m,\u001b[0m \u001b[0mlinewidths\u001b[0m\u001b[0;34m=\u001b[0m\u001b[0;32mNone\u001b[0m\u001b[0;34m,\u001b[0m \u001b[0;34m*\u001b[0m\u001b[0;34m,\u001b[0m\u001b[0;34m\u001b[0m\u001b[0;34m\u001b[0m\u001b[0m\n\u001b[1;32m   2861\u001b[0m         edgecolors=None, plotnonfinite=False, data=None, **kwargs):\n\u001b[0;32m-> 2862\u001b[0;31m     __ret = gca().scatter(\n\u001b[0m\u001b[1;32m   2863\u001b[0m         \u001b[0mx\u001b[0m\u001b[0;34m,\u001b[0m \u001b[0my\u001b[0m\u001b[0;34m,\u001b[0m \u001b[0ms\u001b[0m\u001b[0;34m=\u001b[0m\u001b[0ms\u001b[0m\u001b[0;34m,\u001b[0m \u001b[0mc\u001b[0m\u001b[0;34m=\u001b[0m\u001b[0mc\u001b[0m\u001b[0;34m,\u001b[0m \u001b[0mmarker\u001b[0m\u001b[0;34m=\u001b[0m\u001b[0mmarker\u001b[0m\u001b[0;34m,\u001b[0m \u001b[0mcmap\u001b[0m\u001b[0;34m=\u001b[0m\u001b[0mcmap\u001b[0m\u001b[0;34m,\u001b[0m \u001b[0mnorm\u001b[0m\u001b[0;34m=\u001b[0m\u001b[0mnorm\u001b[0m\u001b[0;34m,\u001b[0m\u001b[0;34m\u001b[0m\u001b[0;34m\u001b[0m\u001b[0m\n\u001b[1;32m   2864\u001b[0m         \u001b[0mvmin\u001b[0m\u001b[0;34m=\u001b[0m\u001b[0mvmin\u001b[0m\u001b[0;34m,\u001b[0m \u001b[0mvmax\u001b[0m\u001b[0;34m=\u001b[0m\u001b[0mvmax\u001b[0m\u001b[0;34m,\u001b[0m \u001b[0malpha\u001b[0m\u001b[0;34m=\u001b[0m\u001b[0malpha\u001b[0m\u001b[0;34m,\u001b[0m \u001b[0mlinewidths\u001b[0m\u001b[0;34m=\u001b[0m\u001b[0mlinewidths\u001b[0m\u001b[0;34m,\u001b[0m\u001b[0;34m\u001b[0m\u001b[0;34m\u001b[0m\u001b[0m\n",
            "\u001b[0;32m/usr/local/lib/python3.10/dist-packages/matplotlib/__init__.py\u001b[0m in \u001b[0;36minner\u001b[0;34m(ax, data, *args, **kwargs)\u001b[0m\n\u001b[1;32m   1440\u001b[0m     \u001b[0;32mdef\u001b[0m \u001b[0minner\u001b[0m\u001b[0;34m(\u001b[0m\u001b[0max\u001b[0m\u001b[0;34m,\u001b[0m \u001b[0;34m*\u001b[0m\u001b[0margs\u001b[0m\u001b[0;34m,\u001b[0m \u001b[0mdata\u001b[0m\u001b[0;34m=\u001b[0m\u001b[0;32mNone\u001b[0m\u001b[0;34m,\u001b[0m \u001b[0;34m**\u001b[0m\u001b[0mkwargs\u001b[0m\u001b[0;34m)\u001b[0m\u001b[0;34m:\u001b[0m\u001b[0;34m\u001b[0m\u001b[0;34m\u001b[0m\u001b[0m\n\u001b[1;32m   1441\u001b[0m         \u001b[0;32mif\u001b[0m \u001b[0mdata\u001b[0m \u001b[0;32mis\u001b[0m \u001b[0;32mNone\u001b[0m\u001b[0;34m:\u001b[0m\u001b[0;34m\u001b[0m\u001b[0;34m\u001b[0m\u001b[0m\n\u001b[0;32m-> 1442\u001b[0;31m             \u001b[0;32mreturn\u001b[0m \u001b[0mfunc\u001b[0m\u001b[0;34m(\u001b[0m\u001b[0max\u001b[0m\u001b[0;34m,\u001b[0m \u001b[0;34m*\u001b[0m\u001b[0mmap\u001b[0m\u001b[0;34m(\u001b[0m\u001b[0msanitize_sequence\u001b[0m\u001b[0;34m,\u001b[0m \u001b[0margs\u001b[0m\u001b[0;34m)\u001b[0m\u001b[0;34m,\u001b[0m \u001b[0;34m**\u001b[0m\u001b[0mkwargs\u001b[0m\u001b[0;34m)\u001b[0m\u001b[0;34m\u001b[0m\u001b[0;34m\u001b[0m\u001b[0m\n\u001b[0m\u001b[1;32m   1443\u001b[0m \u001b[0;34m\u001b[0m\u001b[0m\n\u001b[1;32m   1444\u001b[0m         \u001b[0mbound\u001b[0m \u001b[0;34m=\u001b[0m \u001b[0mnew_sig\u001b[0m\u001b[0;34m.\u001b[0m\u001b[0mbind\u001b[0m\u001b[0;34m(\u001b[0m\u001b[0max\u001b[0m\u001b[0;34m,\u001b[0m \u001b[0;34m*\u001b[0m\u001b[0margs\u001b[0m\u001b[0;34m,\u001b[0m \u001b[0;34m**\u001b[0m\u001b[0mkwargs\u001b[0m\u001b[0;34m)\u001b[0m\u001b[0;34m\u001b[0m\u001b[0;34m\u001b[0m\u001b[0m\n",
            "\u001b[0;32m/usr/local/lib/python3.10/dist-packages/matplotlib/axes/_axes.py\u001b[0m in \u001b[0;36mscatter\u001b[0;34m(self, x, y, s, c, marker, cmap, norm, vmin, vmax, alpha, linewidths, edgecolors, plotnonfinite, **kwargs)\u001b[0m\n\u001b[1;32m   4600\u001b[0m             \u001b[0morig_edgecolor\u001b[0m \u001b[0;34m=\u001b[0m \u001b[0mkwargs\u001b[0m\u001b[0;34m.\u001b[0m\u001b[0mget\u001b[0m\u001b[0;34m(\u001b[0m\u001b[0;34m'edgecolor'\u001b[0m\u001b[0;34m,\u001b[0m \u001b[0;32mNone\u001b[0m\u001b[0;34m)\u001b[0m\u001b[0;34m\u001b[0m\u001b[0;34m\u001b[0m\u001b[0m\n\u001b[1;32m   4601\u001b[0m         \u001b[0mc\u001b[0m\u001b[0;34m,\u001b[0m \u001b[0mcolors\u001b[0m\u001b[0;34m,\u001b[0m \u001b[0medgecolors\u001b[0m \u001b[0;34m=\u001b[0m\u001b[0;31m \u001b[0m\u001b[0;31m\\\u001b[0m\u001b[0;34m\u001b[0m\u001b[0;34m\u001b[0m\u001b[0m\n\u001b[0;32m-> 4602\u001b[0;31m             self._parse_scatter_color_args(\n\u001b[0m\u001b[1;32m   4603\u001b[0m                 \u001b[0mc\u001b[0m\u001b[0;34m,\u001b[0m \u001b[0medgecolors\u001b[0m\u001b[0;34m,\u001b[0m \u001b[0mkwargs\u001b[0m\u001b[0;34m,\u001b[0m \u001b[0mx\u001b[0m\u001b[0;34m.\u001b[0m\u001b[0msize\u001b[0m\u001b[0;34m,\u001b[0m\u001b[0;34m\u001b[0m\u001b[0;34m\u001b[0m\u001b[0m\n\u001b[1;32m   4604\u001b[0m                 get_next_color_func=self._get_patches_for_fill.get_next_color)\n",
            "\u001b[0;32m/usr/local/lib/python3.10/dist-packages/matplotlib/axes/_axes.py\u001b[0m in \u001b[0;36m_parse_scatter_color_args\u001b[0;34m(c, edgecolors, kwargs, xsize, get_next_color_func)\u001b[0m\n\u001b[1;32m   4443\u001b[0m                 \u001b[0;32melse\u001b[0m\u001b[0;34m:\u001b[0m\u001b[0;34m\u001b[0m\u001b[0;34m\u001b[0m\u001b[0m\n\u001b[1;32m   4444\u001b[0m                     \u001b[0;32mif\u001b[0m \u001b[0;32mnot\u001b[0m \u001b[0mvalid_shape\u001b[0m\u001b[0;34m:\u001b[0m\u001b[0;34m\u001b[0m\u001b[0;34m\u001b[0m\u001b[0m\n\u001b[0;32m-> 4445\u001b[0;31m                         \u001b[0;32mraise\u001b[0m \u001b[0minvalid_shape_exception\u001b[0m\u001b[0;34m(\u001b[0m\u001b[0mc\u001b[0m\u001b[0;34m.\u001b[0m\u001b[0msize\u001b[0m\u001b[0;34m,\u001b[0m \u001b[0mxsize\u001b[0m\u001b[0;34m)\u001b[0m \u001b[0;32mfrom\u001b[0m \u001b[0merr\u001b[0m\u001b[0;34m\u001b[0m\u001b[0;34m\u001b[0m\u001b[0m\n\u001b[0m\u001b[1;32m   4446\u001b[0m                     \u001b[0;31m# Both the mapping *and* the RGBA conversion failed: pretty\u001b[0m\u001b[0;34m\u001b[0m\u001b[0;34m\u001b[0m\u001b[0m\n\u001b[1;32m   4447\u001b[0m                     \u001b[0;31m# severe failure => one may appreciate a verbose feedback.\u001b[0m\u001b[0;34m\u001b[0m\u001b[0;34m\u001b[0m\u001b[0m\n",
            "\u001b[0;31mValueError\u001b[0m: 'c' argument has 12142 elements, which is inconsistent with 'x' and 'y' with size 1."
          ]
        },
        {
          "data": {
            "image/png": "[encoded data removed]",
            "text/plain": [
              "<Figure size 640x480 with 1 Axes>"
            ]
          },
          "metadata": {},
          "output_type": "display_data"
        }
      ],
      "source": [
        "# Plot the SVM decision boundary\n",
        "# Note: This is a simple 2D representation, and actual feature space may have more dimensions\n",
        "plt.scatter(x_train[:, 0], x_train[:, 1], c=y_train, cmap=plt.cm.Paired, edgecolors='k')\n",
        "ax = plt.gca()\n",
        "xlim = ax.get_xlim()\n",
        "ylim = ax.get_ylim()\n",
        "\n",
        "# Create grid to evaluate model\n",
        "xx, yy = np.meshgrid(np.linspace(xlim[0], xlim[1], 50), np.linspace(ylim[0], ylim[1], 50))\n",
        "Z = classifier.decision_function(np.c_[xx.ravel(), yy.ravel()])\n",
        "\n",
        "# Plot decision boundary\n",
        "ax.contour(xx, yy, Z.reshape(xx.shape), colors='k', levels=[-1, 0, 1], alpha=0.5, linestyles=['--', '-', '--'])\n",
        "plt.title('SVM Decision Boundary')\n",
        "plt.xlabel('Feature 1')\n",
        "plt.ylabel('Feature 2')\n",
        "plt.show()"
      ]
    },
    {
      "cell_type": "markdown",
      "metadata": {
        "id": "PHxuPq6eXdOY"
      },
      "source": [
        "CRAWLING DATA FROM IG"
      ]
    },
    {
      "cell_type": "code",
      "execution_count": null,
      "metadata": {
        "id": "yqeWRABSXkKr"
      },
      "outputs": [],
      "source": [
        "!pip install stdiomask\n",
        "!apt install chromium-chromedriver\n",
        "!pip install selenium\n",
        "!sudo apt-get install python-yaml\n",
        "!sudo yum install python-yaml\n",
        "!apt-get update\n",
        "!apt install python3-dev python3-pip\n",
        "!apt install chromium-chromedriver\n",
        "!cp /usr/lib/chromium-browser/chromedriver /usr/bin"
      ]
    },
    {
      "cell_type": "markdown",
      "metadata": {
        "id": "UPkBHV_F3V7z"
      },
      "source": [
        "TEXTBLOB"
      ]
    },
    {
      "cell_type": "code",
      "execution_count": null,
      "metadata": {
        "id": "YDjSdAIrr0IW"
      },
      "outputs": [],
      "source": [
        "!pip install textblob"
      ]
    },
    {
      "cell_type": "code",
      "execution_count": null,
      "metadata": {
        "colab": {
          "base_uri": "https://localhost:8080/"
        },
        "id": "b7GfMBkCrxF_",
        "outputId": "9a0640e3-b552-4454-a210-51726e648bb3"
      },
      "outputs": [
        {
          "name": "stdout",
          "output_type": "stream",
          "text": [
            "shell oil is all over the world\n",
            "Sentiment(polarity=0.0, subjectivity=0.0)\n",
            "loving the behind the scenes. keep them coming! i watched an episode of slow horses last night and could swear a bit of it was filmed where fix you was filmed. would love to know more background\n",
            "Sentiment(polarity=0.13333333333333333, subjectivity=0.5361111111111111)\n",
            "i swear i will never buy mcd again #freepalestine tastes like shit \n",
            "Sentiment(polarity=-0.2, subjectivity=0.8)\n"
          ]
        }
      ],
      "source": [
        "from textblob import TextBlob# Get sentiment analysis\n",
        "text = [\"shell oil is all over the world\", \"loving the behind the scenes. keep them coming! i watched an episode of slow horses last night and could swear a bit of it was filmed where fix you was filmed. would love to know more background\", \"i swear i will never buy mcd again #freepalestine tastes like shit \"]\n",
        "for i in range(3):\n",
        "    print(text[i])\n",
        "    blob = TextBlob(text[i])\n",
        "    print(blob.sentiment)"
      ]
    },
    {
      "cell_type": "markdown",
      "metadata": {
        "id": "egUKBjEXWpbD"
      },
      "source": [
        "TWITTER CRAWLING"
      ]
    },
    {
      "cell_type": "code",
      "execution_count": null,
      "metadata": {
        "colab": {
          "base_uri": "https://localhost:8080/"
        },
        "id": "SxnMyI1KWpIj",
        "outputId": "9f8985f9-6117-4b49-bccc-bd8d21e08bb2"
      },
      "outputs": [
        {
          "name": "stdout",
          "output_type": "stream",
          "text": [
            "Collecting git+https://github.com/tweepy/tweepy.git\n",
            "  Cloning https://github.com/tweepy/tweepy.git to /tmp/pip-req-build-2m71hamp\n",
            "  Running command git clone --filter=blob:none --quiet https://github.com/tweepy/tweepy.git /tmp/pip-req-build-2m71hamp\n",
            "  Resolved https://github.com/tweepy/tweepy.git to commit f32d12dbddbd877470446657812a10a04292d0c9\n",
            "  Preparing metadata (setup.py) ... \u001b[?25l\u001b[?25hdone\n",
            "Requirement already satisfied: oauthlib<4,>=3.2.0 in /usr/local/lib/python3.10/dist-packages (from tweepy==4.14.0) (3.2.2)\n",
            "Requirement already satisfied: requests<3,>=2.27.0 in /usr/local/lib/python3.10/dist-packages (from tweepy==4.14.0) (2.31.0)\n",
            "Requirement already satisfied: requests-oauthlib<2,>=1.2.0 in /usr/local/lib/python3.10/dist-packages (from tweepy==4.14.0) (1.3.1)\n",
            "Requirement already satisfied: charset-normalizer<4,>=2 in /usr/local/lib/python3.10/dist-packages (from requests<3,>=2.27.0->tweepy==4.14.0) (3.3.2)\n",
            "Requirement already satisfied: idna<4,>=2.5 in /usr/local/lib/python3.10/dist-packages (from requests<3,>=2.27.0->tweepy==4.14.0) (3.6)\n",
            "Requirement already satisfied: urllib3<3,>=1.21.1 in /usr/local/lib/python3.10/dist-packages (from requests<3,>=2.27.0->tweepy==4.14.0) (2.0.7)\n",
            "Requirement already satisfied: certifi>=2017.4.17 in /usr/local/lib/python3.10/dist-packages (from requests<3,>=2.27.0->tweepy==4.14.0) (2023.11.17)\n"
          ]
        }
      ],
      "source": [
        "pip install git+https://github.com/tweepy/tweepy.git"
      ]
    },
    {
      "cell_type": "code",
      "execution_count": null,
      "metadata": {
        "id": "Aun_Sj34jfZ9"
      },
      "outputs": [],
      "source": [
        "import requests\n",
        "\n",
        "# Replace 'YOUR_ACCESS_TOKEN' with your actual access token\n",
        "access_token = 'YOUR_ACCESS_TOKEN'\n",
        "\n",
        "# Replace 'POST_ID' with the ID of the post you want to retrieve comments from\n",
        "post_id = 'POST_ID'\n",
        "\n",
        "# Make a request to the Instagram Graph API to retrieve comments\n",
        "url = f'https://graph.instagram.com/v12.0/{post_id}/comments?access_token={access_token}'\n",
        "response = requests.get(url)\n",
        "\n",
        "# Check if the request was successful\n",
        "if response.status_code == 200:\n",
        "    # Extract and print the comments\n",
        "    comments = response.json()['data']\n",
        "    for comment in comments:\n",
        "        print(comment['text'])\n",
        "else:\n",
        "    print(f\"Error: {response.status_code}\")\n",
        "    print(response.json())\n"
      ]
    },
    {
      "cell_type": "code",
      "execution_count": null,
      "metadata": {
        "colab": {
          "base_uri": "https://localhost:8080/"
        },
        "id": "Fu15tZf0fWsw",
        "outputId": "6672176d-8040-4094-d383-2ab98668ed59"
      },
      "outputs": [
        {
          "name": "stdout",
          "output_type": "stream",
          "text": [
            "Error: 401 Unauthorized\n",
            "89 - Invalid or expired token.\n"
          ]
        }
      ],
      "source": [
        "import tweepy\n",
        "import pandas as pd\n",
        "\n",
        "# Set up your Twitter API Bearer Token\n",
        "consumer_key = \"\" #Your API/Consumer key\n",
        "consumer_secret = \"\" #Your API/Consumer Secret Key\n",
        "bearer_token = \"\"\n",
        "\n",
        "# Set up your Twitter API Bearer Token\n",
        "bearer_token = \"AAAAAAAAAAAAAAAAAAAAAM8irgEAAAAA659dSUprXxYmK%2FgJSkp%2FgnOz%2Bt8%3D69FEfxFRmoptcpOEolISKFI7DoxDJGuPVN3SkCZ6UsKojpHL2P\"\n",
        "\n",
        "try:\n",
        "    # Authenticate with the Twitter API using Bearer Token\n",
        "    auth = tweepy.OAuth2BearerHandler(bearer_token)\n",
        "    api = tweepy.API(auth, wait_on_rate_limit=True)\n",
        "\n",
        "    # Verify authentication\n",
        "    if not api.verify_credentials():\n",
        "        raise tweepy.TweepError(\"Failed to authenticate with Twitter API\")\n",
        "\n",
        "    # Search for tweets containing a specific keyword (e.g., 'Python')\n",
        "    keyword = 'Python'\n",
        "    num_tweets = 100  # Adjust the number of tweets you want to fetch\n",
        "\n",
        "    tweets = tweepy.Cursor(api.search_tweets, q=keyword, lang='en').items(num_tweets)\n",
        "\n",
        "    # Extract relevant information from tweets\n",
        "    tweet_data = []\n",
        "    for tweet in tweets:\n",
        "        tweet_data.append({\n",
        "            'text': tweet.text,\n",
        "            'created_at': tweet.created_at,\n",
        "            'user': tweet.user.screen_name,\n",
        "            'user_location': tweet.user.location\n",
        "        })\n",
        "\n",
        "    # Create a DataFrame from the collected data\n",
        "    df = pd.DataFrame(tweet_data)\n",
        "\n",
        "    # Save the DataFrame to a CSV file\n",
        "    df.to_csv('tweets.csv', index=False)\n",
        "\n",
        "    # Display the DataFrame\n",
        "    print(df.head())\n",
        "\n",
        "except tweepy.errors.TweepyException as e:\n",
        "    print(f\"Error: {str(e)}\")\n"
      ]
    },
    {
      "cell_type": "code",
      "execution_count": null,
      "metadata": {
        "colab": {
          "base_uri": "https://localhost:8080/",
          "height": 245
        },
        "id": "lBk-9e3GWvan",
        "outputId": "b5d3545b-a33a-4537-d807-5853cc6037d4"
      },
      "outputs": [
        {
          "ename": "TypeError",
          "evalue": "ignored",
          "output_type": "error",
          "traceback": [
            "\u001b[0;31m---------------------------------------------------------------------------\u001b[0m",
            "\u001b[0;31mTypeError\u001b[0m                                 Traceback (most recent call last)",
            "\u001b[0;32m<ipython-input-9-2096bcbae92a>\u001b[0m in \u001b[0;36m<cell line: 11>\u001b[0;34m()\u001b[0m\n\u001b[1;32m      9\u001b[0m \u001b[0;34m\u001b[0m\u001b[0m\n\u001b[1;32m     10\u001b[0m \u001b[0;31m# Authenticate with the Twitter API using Bearer Token\u001b[0m\u001b[0;34m\u001b[0m\u001b[0;34m\u001b[0m\u001b[0m\n\u001b[0;32m---> 11\u001b[0;31m \u001b[0mauth\u001b[0m \u001b[0;34m=\u001b[0m \u001b[0mtweepy\u001b[0m\u001b[0;34m.\u001b[0m\u001b[0mAppAuthHandler\u001b[0m\u001b[0;34m(\u001b[0m\u001b[0mconsumer_key\u001b[0m\u001b[0;34m,\u001b[0m \u001b[0mconsumer_secret\u001b[0m\u001b[0;34m,\u001b[0m \u001b[0mbearer_token\u001b[0m\u001b[0;34m)\u001b[0m\u001b[0;34m\u001b[0m\u001b[0;34m\u001b[0m\u001b[0m\n\u001b[0m\u001b[1;32m     12\u001b[0m \u001b[0mapi\u001b[0m \u001b[0;34m=\u001b[0m \u001b[0mtweepy\u001b[0m\u001b[0;34m.\u001b[0m\u001b[0mAPI\u001b[0m\u001b[0;34m(\u001b[0m\u001b[0mauth\u001b[0m\u001b[0;34m,\u001b[0m \u001b[0mwait_on_rate_limit\u001b[0m\u001b[0;34m=\u001b[0m\u001b[0;32mTrue\u001b[0m\u001b[0;34m)\u001b[0m\u001b[0;34m\u001b[0m\u001b[0;34m\u001b[0m\u001b[0m\n\u001b[1;32m     13\u001b[0m \u001b[0;34m\u001b[0m\u001b[0m\n",
            "\u001b[0;31mTypeError\u001b[0m: AppAuthHandler.__init__() takes 3 positional arguments but 4 were given"
          ]
        }
      ],
      "source": [
        "import tweepy\n",
        "import pandas as pd\n",
        "\n",
        "consumer_key = \"vN1LIJjJuLrgWpFoUq3Wcl7Vj\" #Your API/Consumer key\n",
        "consumer_secret = \"3oAhivnBtcXjgq1dnkWdlnxPHMEavlm0RBCDta4reWgnyjMA77\" #Your API/Consumer Secret Key\n",
        "access_token = \"1736759677541822464-v2RvnrWSMVLYOLabZHmiukRHEnoTpe\"    #Your Access token key\n",
        "access_token_secret = \"16DCK5xPhQv2HR5BihSup18TZlpgoTNGAMxJFdGbVZZ5G\" #Your Access token Secret key\n",
        "bearer_token = \"AAAAAAAAAAAAAAAAAAAAAM8irgEAAAAA659dSUprXxYmK%2FgJSkp%2FgnOz%2Bt8%3D69FEfxFRmoptcpOEolISKFI7DoxDJGuPVN3SkCZ6UsKojpHL2P\"\n",
        "\n",
        "# Authenticate with the Twitter API using Bearer Token\n",
        "auth = tweepy.AppAuthHandler(consumer_key, consumer_secret, bearer_token)\n",
        "api = tweepy.API(auth, wait_on_rate_limit=True)\n",
        "\n",
        "#Pass in our twitter API authentication key\n",
        "# auth = tweepy.OAuth1UserHandler(\n",
        "#     consumer_key, consumer_secret,\n",
        "#     access_token, access_token_secret\n",
        "# )\n",
        "\n",
        "#Instantiate the tweepy API\n",
        "api = tweepy.API(auth, wait_on_rate_limit=True)\n",
        "\n",
        "\n",
        "search_query = \"'ref''world cup'-filter:retweets AND -filter:replies AND -filter:links\"\n",
        "no_of_tweets = 100\n",
        "\n",
        "try:\n",
        "    #The number of tweets we want to retrieved from the search\n",
        "    tweets = api.search_tweets(q=search_query, lang=\"en\", count=no_of_tweets, tweet_mode ='extended')\n",
        "\n",
        "    #Pulling Some attributes from the tweet\n",
        "    attributes_container = [[tweet.user.name, tweet.created_at, tweet.favorite_count, tweet.source, tweet.full_text] for tweet in tweets]\n",
        "\n",
        "    #Creation of column list to rename the columns in the dataframe\n",
        "    columns = [\"User\", \"Date Created\", \"Number of Likes\", \"Source of Tweet\", \"Tweet\"]\n",
        "\n",
        "    #Creation of Dataframe\n",
        "    tweets_df = pd.DataFrame(attributes_container, columns=columns)\n",
        "except BaseException as e:\n",
        "    print('Status Failed On,',str(e))"
      ]
    }
  ],
  "metadata": {
    "colab": {
      "provenance": []
    },
    "kernelspec": {
      "display_name": "Python 3",
      "name": "python3"
    },
    "language_info": {
      "codemirror_mode": {
        "name": "ipython",
        "version": 3
      },
      "file_extension": ".py",
      "mimetype": "text/x-python",
      "name": "python",
      "nbconvert_exporter": "python",
      "pygments_lexer": "ipython3",
      "version": "3.11.4"
    }
  },
  "nbformat": 4,
  "nbformat_minor": 0
}
